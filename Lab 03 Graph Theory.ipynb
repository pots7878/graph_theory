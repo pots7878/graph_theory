{
 "cells": [
  {
   "cell_type": "markdown",
   "metadata": {},
   "source": [
    "# Graph Representation"
   ]
  },
  {
   "cell_type": "code",
   "execution_count": 1,
   "metadata": {},
   "outputs": [],
   "source": [
    "import numpy as np\n",
    "\n",
    "def myFunc(file, graph_selection):\n",
    "    \n",
    "    #open file \n",
    "    f = open(file)\n",
    "    #read the lines of the fule \n",
    "    str_data = f.readlines()\n",
    "    #for each element in the file, split the string and convert to float \n",
    "    data = [[float(element) for element in str.split()] for str in str_data]\n",
    "    \n",
    "    #edge list \n",
    "    if graph_selection == 1:\n",
    "        print('Edge List for {}'.format(file))\n",
    "        G = edgeList(data)\n",
    "        \n",
    "    #Adjacency matrix\n",
    "    if graph_selection == 2:\n",
    "        print('Adjacency Matrix for {}'.format(file))\n",
    "        G = adjacencyMatrix(data)\n",
    "    \n",
    "    #Adjacency Structure\n",
    "    if graph_selection == 3:\n",
    "        print('Adjacency Structure for {}'.format(file))\n",
    "        G = adjacencyStructure(data)\n",
    "        \n",
    "    #incidence Matrix \n",
    "    if graph_selection == 4:\n",
    "        print('Incidence Matrix for {}'.format(file))\n",
    "        G = incidenceMatrix(data, edgeList(data))\n",
    "    \n",
    "    #return graph\n",
    "    return G"
   ]
  },
  {
   "cell_type": "code",
   "execution_count": 2,
   "metadata": {},
   "outputs": [],
   "source": [
    "def edgeList(data):\n",
    "    \n",
    "    #create empty edge list \n",
    "    edge_list = []\n",
    "    \n",
    "    #loop through grf data\n",
    "    for i in data:\n",
    "        #loop through edges in formated grf file \n",
    "        for j in i[3:]:\n",
    "            #assign the edge to the node\n",
    "            edge = [i[0],j]\n",
    "            #if first node is less than paired node \n",
    "            #this removes duplicates\n",
    "            if (edge[0] < edge[1]):\n",
    "                #add node and its corresponding node \n",
    "                #that shares an edge \n",
    "                edge_list.append(edge)\n",
    "\n",
    "    #return edge list\n",
    "    return edge_list"
   ]
  },
  {
   "cell_type": "code",
   "execution_count": 3,
   "metadata": {},
   "outputs": [],
   "source": [
    "def adjacencyMatrix(data):\n",
    "    \n",
    "    #grab all nodes from grf file \n",
    "    nodes = [sub_list[0] for sub_list in data]\n",
    "    #set var n to the length of nodes\n",
    "    n = len(nodes)\n",
    "    \n",
    "    #initialize empty lists to hold pairs of edges \n",
    "    edge_1= []\n",
    "    edge_2 = []\n",
    "    \n",
    "    #loop through data \n",
    "    for i in data:\n",
    "        #loop through paired edges \n",
    "        for j in i[3:]:\n",
    "            #assign edge to node\n",
    "            mat = [i[0],j]\n",
    "            #append edges \n",
    "            edge_1.append(mat[0])\n",
    "            edge_2.append(mat[1])\n",
    "            \n",
    "    #create empty adjacency matrix with zeros\n",
    "    adj_matrix = np.zeros((n,n))\n",
    "    \n",
    "    #loop through edge list \n",
    "    for i in range(len(edge_1)):\n",
    "        #unpack list and convert to int to be able to index\n",
    "        u = int(edge_1[i])\n",
    "        v = int(edge_2[i])\n",
    "        #assign 1.0 to connected nodes \n",
    "        adj_matrix[u-1][v-1] = 1.0\n",
    "\n",
    "    #return adjacency matrix\n",
    "    return adj_matrix"
   ]
  },
  {
   "cell_type": "code",
   "execution_count": 4,
   "metadata": {},
   "outputs": [],
   "source": [
    "def adjacencyStructure(data):\n",
    "    \n",
    "    #create lists of nodes and adjacencent nodes \n",
    "    nodes = [sub_list[0] for sub_list in data]\n",
    "    adj_nodes = [sub_list[3:] for sub_list in data]\n",
    "\n",
    "    #zip up lists and convert to dict to form structure \n",
    "    adj_struct = dict(zip(nodes, adj_nodes))\n",
    "\n",
    "    #output graph \n",
    "    return adj_struct"
   ]
  },
  {
   "cell_type": "code",
   "execution_count": 5,
   "metadata": {},
   "outputs": [],
   "source": [
    "def incidenceMatrix(data, edge_list):\n",
    "    \n",
    "    #get all nodes from grf format\n",
    "    nodes = [sub_list[0] for sub_list in data]\n",
    "    #get the length of all nodes for size of matrix \n",
    "    n = len(nodes)\n",
    "    \n",
    "    #initialize incidence matrix by how many edges there are and nodes\n",
    "    #4x5\n",
    "    inc_matrix = np.zeros((len(edge_list), n))\n",
    "    \n",
    "    for i in range(len(edge_list)):\n",
    "        for j in range(len(edge_list[i])):\n",
    "            inc_matrix[i, int(edge_list[i][j] - 1)] = 1\n",
    "            inc_matrix[i, int(edge_list[i][j] - 1)] = 1\n",
    "\n",
    "    #output graph  \n",
    "    return inc_matrix"
   ]
  },
  {
   "cell_type": "markdown",
   "metadata": {},
   "source": [
    "## Converting GRF format"
   ]
  },
  {
   "cell_type": "code",
   "execution_count": 6,
   "metadata": {},
   "outputs": [
    {
     "name": "stdout",
     "output_type": "stream",
     "text": [
      "Edge List for graph.grf\n"
     ]
    },
    {
     "data": {
      "text/plain": [
       "[[1.0, 2.0], [1.0, 3.0], [2.0, 3.0], [3.0, 4.0]]"
      ]
     },
     "execution_count": 6,
     "metadata": {},
     "output_type": "execute_result"
    }
   ],
   "source": [
    "#Edge list \n",
    "myFunc('graph.grf', 1)"
   ]
  },
  {
   "cell_type": "code",
   "execution_count": 7,
   "metadata": {},
   "outputs": [
    {
     "name": "stdout",
     "output_type": "stream",
     "text": [
      "Adjacency Matrix for graph.grf\n"
     ]
    },
    {
     "data": {
      "text/plain": [
       "array([[0., 1., 1., 0., 0.],\n",
       "       [1., 0., 1., 0., 0.],\n",
       "       [1., 1., 0., 1., 0.],\n",
       "       [0., 0., 1., 0., 0.],\n",
       "       [0., 0., 0., 0., 0.]])"
      ]
     },
     "execution_count": 7,
     "metadata": {},
     "output_type": "execute_result"
    }
   ],
   "source": [
    "#Adjacency matrix\n",
    "myFunc('graph.grf', 2)"
   ]
  },
  {
   "cell_type": "code",
   "execution_count": 8,
   "metadata": {},
   "outputs": [
    {
     "name": "stdout",
     "output_type": "stream",
     "text": [
      "Adjacency Structure for graph.grf\n"
     ]
    },
    {
     "data": {
      "text/plain": [
       "{1.0: [2.0, 3.0], 2.0: [1.0, 3.0], 3.0: [1.0, 2.0, 4.0], 4.0: [3.0], 5.0: []}"
      ]
     },
     "execution_count": 8,
     "metadata": {},
     "output_type": "execute_result"
    }
   ],
   "source": [
    "#Adjacency structure\n",
    "myFunc('graph.grf', 3)"
   ]
  },
  {
   "cell_type": "code",
   "execution_count": 9,
   "metadata": {},
   "outputs": [
    {
     "name": "stdout",
     "output_type": "stream",
     "text": [
      "Incidence Matrix for graph.grf\n"
     ]
    },
    {
     "data": {
      "text/plain": [
       "array([[1., 1., 0., 0., 0.],\n",
       "       [1., 0., 1., 0., 0.],\n",
       "       [0., 1., 1., 0., 0.],\n",
       "       [0., 0., 1., 1., 0.]])"
      ]
     },
     "execution_count": 9,
     "metadata": {},
     "output_type": "execute_result"
    }
   ],
   "source": [
    "#incidence matrix \n",
    "myFunc('graph.grf', 4)"
   ]
  },
  {
   "cell_type": "markdown",
   "metadata": {},
   "source": [
    "## Converting GRF format of South America "
   ]
  },
  {
   "cell_type": "code",
   "execution_count": 10,
   "metadata": {},
   "outputs": [
    {
     "name": "stdout",
     "output_type": "stream",
     "text": [
      "Edge List for southAmerica.grf\n"
     ]
    },
    {
     "data": {
      "text/plain": [
       "[[1.0, 2.0],\n",
       " [1.0, 3.0],\n",
       " [1.0, 4.0],\n",
       " [1.0, 8.0],\n",
       " [1.0, 11.0],\n",
       " [2.0, 3.0],\n",
       " [2.0, 4.0],\n",
       " [2.0, 8.0],\n",
       " [2.0, 9.0],\n",
       " [3.0, 5.0],\n",
       " [3.0, 7.0],\n",
       " [3.0, 8.0],\n",
       " [3.0, 9.0],\n",
       " [3.0, 10.0],\n",
       " [3.0, 11.0],\n",
       " [3.0, 12.0],\n",
       " [4.0, 9.0],\n",
       " [5.0, 6.0],\n",
       " [5.0, 9.0],\n",
       " [5.0, 12.0],\n",
       " [6.0, 9.0],\n",
       " [7.0, 10.0],\n",
       " [7.0, 12.0]]"
      ]
     },
     "execution_count": 10,
     "metadata": {},
     "output_type": "execute_result"
    }
   ],
   "source": [
    "#Edge list \n",
    "myFunc('southAmerica.grf', 1)"
   ]
  },
  {
   "cell_type": "code",
   "execution_count": 11,
   "metadata": {},
   "outputs": [
    {
     "name": "stdout",
     "output_type": "stream",
     "text": [
      "Adjacency Matrix for southAmerica.grf\n"
     ]
    },
    {
     "data": {
      "text/plain": [
       "array([[0., 1., 1., 1., 0., 0., 0., 1., 0., 0., 1., 0.],\n",
       "       [1., 0., 1., 1., 0., 0., 0., 1., 1., 0., 0., 0.],\n",
       "       [1., 1., 0., 0., 1., 0., 1., 1., 1., 1., 1., 1.],\n",
       "       [1., 1., 0., 0., 0., 0., 0., 0., 1., 0., 0., 0.],\n",
       "       [0., 0., 1., 0., 0., 1., 0., 0., 1., 0., 0., 1.],\n",
       "       [0., 0., 0., 0., 1., 0., 0., 0., 1., 0., 0., 0.],\n",
       "       [0., 0., 1., 0., 0., 0., 0., 0., 0., 1., 0., 1.],\n",
       "       [1., 1., 1., 0., 0., 0., 0., 0., 0., 0., 0., 0.],\n",
       "       [0., 1., 1., 1., 1., 1., 0., 0., 0., 0., 0., 0.],\n",
       "       [0., 0., 1., 0., 0., 0., 1., 0., 0., 0., 0., 0.],\n",
       "       [1., 0., 1., 0., 0., 0., 0., 0., 0., 0., 0., 0.],\n",
       "       [0., 0., 1., 0., 1., 0., 1., 0., 0., 0., 0., 0.]])"
      ]
     },
     "execution_count": 11,
     "metadata": {},
     "output_type": "execute_result"
    }
   ],
   "source": [
    "#Adjacency matrix\n",
    "myFunc('southAmerica.grf', 2)"
   ]
  },
  {
   "cell_type": "code",
   "execution_count": 12,
   "metadata": {},
   "outputs": [
    {
     "name": "stdout",
     "output_type": "stream",
     "text": [
      "Adjacency Structure for southAmerica.grf\n"
     ]
    },
    {
     "data": {
      "text/plain": [
       "{1.0: [2.0, 3.0, 4.0, 8.0, 11.0],\n",
       " 2.0: [1.0, 3.0, 4.0, 8.0, 9.0],\n",
       " 3.0: [1.0, 2.0, 5.0, 7.0, 8.0, 9.0, 10.0, 11.0, 12.0],\n",
       " 4.0: [1.0, 2.0, 9.0],\n",
       " 5.0: [3.0, 6.0, 9.0, 12.0],\n",
       " 6.0: [5.0, 9.0],\n",
       " 7.0: [3.0, 10.0, 12.0],\n",
       " 8.0: [1.0, 2.0, 3.0],\n",
       " 9.0: [2.0, 3.0, 4.0, 5.0, 6.0],\n",
       " 10.0: [3.0, 7.0],\n",
       " 11.0: [1.0, 3.0],\n",
       " 12.0: [3.0, 5.0, 7.0]}"
      ]
     },
     "execution_count": 12,
     "metadata": {},
     "output_type": "execute_result"
    }
   ],
   "source": [
    "#Adjacency Structure\n",
    "myFunc('southAmerica.grf', 3)"
   ]
  },
  {
   "cell_type": "code",
   "execution_count": 13,
   "metadata": {},
   "outputs": [
    {
     "name": "stdout",
     "output_type": "stream",
     "text": [
      "Incidence Matrix for southAmerica.grf\n"
     ]
    },
    {
     "data": {
      "text/plain": [
       "array([[1., 1., 0., 0., 0., 0., 0., 0., 0., 0., 0., 0.],\n",
       "       [1., 0., 1., 0., 0., 0., 0., 0., 0., 0., 0., 0.],\n",
       "       [1., 0., 0., 1., 0., 0., 0., 0., 0., 0., 0., 0.],\n",
       "       [1., 0., 0., 0., 0., 0., 0., 1., 0., 0., 0., 0.],\n",
       "       [1., 0., 0., 0., 0., 0., 0., 0., 0., 0., 1., 0.],\n",
       "       [0., 1., 1., 0., 0., 0., 0., 0., 0., 0., 0., 0.],\n",
       "       [0., 1., 0., 1., 0., 0., 0., 0., 0., 0., 0., 0.],\n",
       "       [0., 1., 0., 0., 0., 0., 0., 1., 0., 0., 0., 0.],\n",
       "       [0., 1., 0., 0., 0., 0., 0., 0., 1., 0., 0., 0.],\n",
       "       [0., 0., 1., 0., 1., 0., 0., 0., 0., 0., 0., 0.],\n",
       "       [0., 0., 1., 0., 0., 0., 1., 0., 0., 0., 0., 0.],\n",
       "       [0., 0., 1., 0., 0., 0., 0., 1., 0., 0., 0., 0.],\n",
       "       [0., 0., 1., 0., 0., 0., 0., 0., 1., 0., 0., 0.],\n",
       "       [0., 0., 1., 0., 0., 0., 0., 0., 0., 1., 0., 0.],\n",
       "       [0., 0., 1., 0., 0., 0., 0., 0., 0., 0., 1., 0.],\n",
       "       [0., 0., 1., 0., 0., 0., 0., 0., 0., 0., 0., 1.],\n",
       "       [0., 0., 0., 1., 0., 0., 0., 0., 1., 0., 0., 0.],\n",
       "       [0., 0., 0., 0., 1., 1., 0., 0., 0., 0., 0., 0.],\n",
       "       [0., 0., 0., 0., 1., 0., 0., 0., 1., 0., 0., 0.],\n",
       "       [0., 0., 0., 0., 1., 0., 0., 0., 0., 0., 0., 1.],\n",
       "       [0., 0., 0., 0., 0., 1., 0., 0., 1., 0., 0., 0.],\n",
       "       [0., 0., 0., 0., 0., 0., 1., 0., 0., 1., 0., 0.],\n",
       "       [0., 0., 0., 0., 0., 0., 1., 0., 0., 0., 0., 1.]])"
      ]
     },
     "execution_count": 13,
     "metadata": {},
     "output_type": "execute_result"
    }
   ],
   "source": [
    "#incidence matrix \n",
    "myFunc('southAmerica.grf', 4)"
   ]
  },
  {
   "cell_type": "markdown",
   "metadata": {},
   "source": [
    "## Counting Walks"
   ]
  },
  {
   "cell_type": "markdown",
   "metadata": {},
   "source": [
    "We can use an adjacency matrix to count walks. The *ij*'th entry of $A^kv$ will give the number of k-length paths connecting to nodes *i and j*. "
   ]
  },
  {
   "cell_type": "code",
   "execution_count": 14,
   "metadata": {},
   "outputs": [
    {
     "name": "stdout",
     "output_type": "stream",
     "text": [
      "Adjacency Matrix for southAmerica.grf\n",
      "Fewest number of countries that must be visited, including Chile and Venezuela is 4\n",
      "\n",
      "All shortest walks from Chile to Venezuela\n",
      "[11, 10, 8, 4, 5, 2, 3, 6, 10, 3, 4, 4]\n"
     ]
    }
   ],
   "source": [
    "#Count the number of walks from Chile to Venezuela \n",
    "\n",
    "#create the adjacency matrix for the South America grf graph \n",
    "A = myFunc('southAmerica.grf', 2)\n",
    "\n",
    "#vector v is the starting point at Chile \n",
    "#in this case Chile is the fourth country in the grf file \n",
    "#thus I create a vector v to be zero except for a 1 in the \n",
    "#entry corresponging to node B (Chile)\n",
    "v = [0,0,0,1,0,0,0,0,0,0,0,0]\n",
    "\n",
    "#to get the fewest number of countries that I must visit, \n",
    "#including Chile and Venezuela I raise A to the power of 3\n",
    "#looking at a map the min num of countries is 4 (including c and v)\n",
    "#power of 2 doesnt work since there are zero terms in the list \n",
    "#which indicate that the graph isnt connected\n",
    "walk_c2v = np.dot(np.linalg.matrix_power(A, 3), np.transpose(v))[-1]\n",
    "\n",
    "#all shortest walks from Chile to Venezuela \n",
    "all_walks = [int(i) for i in np.dot(np.linalg.matrix_power(A, 3), np.transpose(v))]\n",
    "\n",
    "print('Fewest number of countries that must be visited, including Chile and Venezuela is {}'.format(int(walk_c2v)))\n",
    "print('\\nAll shortest walks from Chile to Venezuela\\n{}'.format(all_walks))"
   ]
  },
  {
   "cell_type": "code",
   "execution_count": 15,
   "metadata": {},
   "outputs": [
    {
     "data": {
      "text/plain": [
       "137225.0"
      ]
     },
     "execution_count": 15,
     "metadata": {},
     "output_type": "execute_result"
    }
   ],
   "source": [
    "np.dot(np.linalg.matrix_power(A, 8), np.transpose(v)).sum()"
   ]
  },
  {
   "cell_type": "markdown",
   "metadata": {},
   "source": [
    "We can generalize the method used above and remove dependence on vector $v$. Let A be the adjacency matrix from a graph $G$. Then $A^k_{i,j}$ counts the number of walks of length k from node *i to node j*. To find the total number of walks of size 8, just sum the total number of walks."
   ]
  },
  {
   "cell_type": "code",
   "execution_count": 16,
   "metadata": {},
   "outputs": [
    {
     "name": "stdout",
     "output_type": "stream",
     "text": [
      "The amount of different possible walks of size 8 is 1,909,772 walks\n"
     ]
    }
   ],
   "source": [
    "#different walks of size 8\n",
    "num_walks8 = np.linalg.matrix_power(A, 8).sum()\n",
    "print('The amount of different possible walks of size 8 is {:,} walks'.format(int(num_walks8)))"
   ]
  },
  {
   "cell_type": "markdown",
   "metadata": {},
   "source": [
    "# Traveling Salesman Problem"
   ]
  },
  {
   "cell_type": "code",
   "execution_count": 26,
   "metadata": {},
   "outputs": [
    {
     "name": "stdout",
     "output_type": "stream",
     "text": [
      "[[1.0, 2.0], [2.0, 1.0]]\n",
      "[[1.0, 3.0], [3.0, 1.0]]\n",
      "[[1.0, 6.0], [6.0, 1.0]]\n",
      "[[1.0, 7.0], [7.0, 1.0]]\n",
      "[[1.0, 8.0], [8.0, 1.0]]\n",
      "[[2.0, 3.0], [3.0, 2.0]]\n",
      "[[2.0, 7.0], [7.0, 2.0]]\n",
      "[[3.0, 4.0], [4.0, 3.0]]\n",
      "[[3.0, 8.0], [8.0, 3.0]]\n",
      "[[4.0, 8.0], [8.0, 4.0]]\n",
      "[[5.0, 6.0], [6.0, 5.0]]\n",
      "[[5.0, 7.0], [7.0, 5.0]]\n",
      "[[5.0, 8.0], [8.0, 5.0]]\n",
      "[[6.0, 7.0], [7.0, 6.0]]\n",
      "[[6.0, 8.0], [8.0, 6.0]]\n"
     ]
    }
   ],
   "source": [
    "#read the text file using list comprehension\n",
    "data = [[float(x) for x in str.split()] for str in open('salesman.txt').readlines()]\n",
    "\n",
    "#read the edge list of the txt file \n",
    "edges = [x[0:2] for x in data]\n",
    "\n",
    "for i in edges:\n",
    "    all_perms = list(itertools.permutations(i))\n",
    "    all_perms = [list(x) for x in all_perms]\n",
    "    print(all_perms)\n",
    "\n",
    "#read in the edge weights of the txt file \n",
    "weights = [x[2] for x in data]"
   ]
  },
  {
   "cell_type": "code",
   "execution_count": 28,
   "metadata": {},
   "outputs": [
    {
     "data": {
      "text/plain": [
       "[[0, 1, 2], [0, 2, 1], [1, 0, 2], [1, 2, 0], [2, 0, 1], [2, 1, 0]]"
      ]
     },
     "execution_count": 28,
     "metadata": {},
     "output_type": "execute_result"
    }
   ],
   "source": [
    "import itertools\n",
    "mylist = [0,1,2]\n",
    "all_perms = list(itertools.permutations(mylist)) # list of tuples\n",
    "all_perms = [list(x) for x in all_perms] # convert to list of lists\n",
    "all_perms"
   ]
  },
  {
   "cell_type": "markdown",
   "metadata": {},
   "source": [
    "Combinatorial computation: studies objects which we can think of as arrangements of items \n",
    "Permutations: need permutations of N items (ordered sequence) and pick the smallest one \n",
    "The TSP requires us to choose the best itinerary for visting N cities, which is a permutation. Each permutation is an itinerary, that is, the order in which we vist the cities. \n",
    "    \n",
    "Random Permutation - we start with the task of choosing a permutation at random. \n",
    "The algo for a random permutation of orderN is \n",
    "    Initalize P to [1, 2, ..., N]\n",
    "    \n",
    "    for I = N down to 2\n",
    "        choose a random int j between 1 and I\n",
    "        swap P(I) and P(J)"
   ]
  },
  {
   "cell_type": "code",
   "execution_count": null,
   "metadata": {},
   "outputs": [],
   "source": []
  }
 ],
 "metadata": {
  "kernelspec": {
   "display_name": "Python 3",
   "language": "python",
   "name": "python3"
  },
  "language_info": {
   "codemirror_mode": {
    "name": "ipython",
    "version": 3
   },
   "file_extension": ".py",
   "mimetype": "text/x-python",
   "name": "python",
   "nbconvert_exporter": "python",
   "pygments_lexer": "ipython3",
   "version": "3.7.0"
  }
 },
 "nbformat": 4,
 "nbformat_minor": 2
}
