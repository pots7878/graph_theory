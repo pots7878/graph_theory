{
 "cells": [
  {
   "cell_type": "markdown",
   "metadata": {},
   "source": [
    "In this lab I convert a GRF format to other representations of a graph, use a graph to find paths between nodes, and to solve a traveling salesman problem."
   ]
  },
  {
   "cell_type": "markdown",
   "metadata": {},
   "source": [
    "# Graph Representation"
   ]
  },
  {
   "cell_type": "code",
   "execution_count": 17,
   "metadata": {},
   "outputs": [],
   "source": [
    "import numpy as np\n",
    "\n",
    "def myFunc(file, graph_selection):\n",
    "    \n",
    "    \"\"\"\n",
    "    myFunc is the main function for part one. It acts as the driver \n",
    "    function to read in a grf format file and outputs a desired \n",
    "    converted graph. Within the conditional statements a seperate function \n",
    "    is called that provides the logic for deired outputs. \n",
    "    \n",
    "    Input:\n",
    "        file(string) - file name of grf format file \n",
    "        graph_selection(int) - int selection between 1 to 4 for \n",
    "        desired converted graph \n",
    "    Output:\n",
    "        G(str) - graph to be displayed \n",
    "    \"\"\"\n",
    "    \n",
    "    #open file \n",
    "    f = open(file)\n",
    "    #read the lines of the fule \n",
    "    str_data = f.readlines()\n",
    "    #for each element in the file, split the string and convert to float \n",
    "    data = [[float(element) for element in str.split()] for str in str_data]\n",
    "    \n",
    "    #edge list \n",
    "    if graph_selection == 1:\n",
    "        print('Edge List for {}'.format(file))\n",
    "        G = edgeList(data)\n",
    "        \n",
    "    #Adjacency matrix\n",
    "    if graph_selection == 2:\n",
    "        #print('Adjacency Matrix for {}'.format(file))\n",
    "        G = adjacencyMatrix(data)\n",
    "    \n",
    "    #Adjacency Structure\n",
    "    if graph_selection == 3:\n",
    "        print('Adjacency Structure for {}'.format(file))\n",
    "        G = adjacencyStructure(data)\n",
    "        \n",
    "    #incidence Matrix \n",
    "    if graph_selection == 4:\n",
    "        print('Incidence Matrix for {}'.format(file))\n",
    "        G = incidenceMatrix(data, edgeList(data))\n",
    "    \n",
    "    #return graph\n",
    "    return G"
   ]
  },
  {
   "cell_type": "code",
   "execution_count": 2,
   "metadata": {},
   "outputs": [],
   "source": [
    "def edgeList(data):\n",
    "    \n",
    "    \"\"\"\n",
    "    edgeList converts nodes and its connected nodes into a list format. \n",
    "    This function reads in data and and outputs the formatted edge list.\n",
    "    \n",
    "    Input:\n",
    "        data(list) - list of lists that provide info about a graph\n",
    "    Output:\n",
    "        edge_list(str) - str formatted as edge list\n",
    "    \"\"\"\n",
    "    \n",
    "    #create empty edge list \n",
    "    edge_list = []\n",
    "    \n",
    "    #loop through grf data\n",
    "    for i in data:\n",
    "        #loop through edges in formated grf file \n",
    "        for j in i[3:]:\n",
    "            #assign the edge to the node\n",
    "            edge = [i[0],j]\n",
    "            #if first node is less than paired node \n",
    "            #this removes duplicates\n",
    "            if (edge[0] < edge[1]):\n",
    "                #add node and its corresponding node \n",
    "                #that shares an edge \n",
    "                edge_list.append(edge)\n",
    "\n",
    "    #return edge list\n",
    "    return edge_list"
   ]
  },
  {
   "cell_type": "code",
   "execution_count": 3,
   "metadata": {},
   "outputs": [],
   "source": [
    "def adjacencyMatrix(data):\n",
    "    \n",
    "    \"\"\"\n",
    "    adjacencyMatrix converts nodes to lists of edges to find an adjacency \n",
    "    matrix that provides the information on connected nodes. Connected \n",
    "    nodes are represented by 1, 0 otherwise.\n",
    "    \n",
    "    Input:\n",
    "        data(list) - list of lists that provide info about a graph \n",
    "    Output:\n",
    "        adj_matrix(array) - sparce adjacency matrix\n",
    "    \"\"\"\n",
    "    \n",
    "    #grab all nodes from grf file \n",
    "    nodes = [sub_list[0] for sub_list in data]\n",
    "    #set var n to the length of nodes\n",
    "    n = len(nodes)\n",
    "    \n",
    "    #initialize empty lists to hold pairs of edges \n",
    "    edge_1= []\n",
    "    edge_2 = []\n",
    "    \n",
    "    #loop through data \n",
    "    for i in data:\n",
    "        #loop through paired edges \n",
    "        for j in i[3:]:\n",
    "            #assign edge to node\n",
    "            mat = [i[0],j]\n",
    "            #append edges \n",
    "            edge_1.append(mat[0])\n",
    "            edge_2.append(mat[1])\n",
    "            \n",
    "    #create empty adjacency matrix with zeros\n",
    "    adj_matrix = np.zeros((n,n))\n",
    "    \n",
    "    #loop through edge list \n",
    "    for i in range(len(edge_1)):\n",
    "        #unpack list and convert to int to be able to index\n",
    "        u = int(edge_1[i])\n",
    "        v = int(edge_2[i])\n",
    "        #assign 1.0 to connected nodes \n",
    "        adj_matrix[u-1][v-1] = 1.0\n",
    "\n",
    "    #return adjacency matrix\n",
    "    return adj_matrix"
   ]
  },
  {
   "cell_type": "code",
   "execution_count": 4,
   "metadata": {},
   "outputs": [],
   "source": [
    "def adjacencyStructure(data):\n",
    "    \n",
    "    \"\"\"\n",
    "    adjacencyStructure converts nodes to a list of nodes and adjacent nodes. \n",
    "    the nodes and adjacent nodes are then zipped together and converted to \n",
    "    a dictionary to provide keys for the connected nodes. \n",
    "    \n",
    "    Input: \n",
    "        data(list) - list of lists that provide information of a graph \n",
    "    Output:\n",
    "        adj_struc(dist) - dictionary of nodes and and connected nodes as keys \n",
    "    \"\"\"\n",
    "    \n",
    "    #create lists of nodes and adjacencent nodes \n",
    "    nodes = [sub_list[0] for sub_list in data]\n",
    "    adj_nodes = [sub_list[3:] for sub_list in data]\n",
    "\n",
    "    #zip up lists and convert to dict to form structure \n",
    "    adj_struct = dict(zip(nodes, adj_nodes))\n",
    "\n",
    "    #output graph \n",
    "    return adj_struct"
   ]
  },
  {
   "cell_type": "code",
   "execution_count": 5,
   "metadata": {},
   "outputs": [],
   "source": [
    "def incidenceMatrix(data, edge_list):\n",
    "    \n",
    "    \"\"\"\n",
    "    incidenceMatrix converts nodes to a list of nodes and uses the edges_list\n",
    "    to create matrix \n",
    "    \n",
    "    Input:\n",
    "        data(list) - list of lists that provide information of a graph \n",
    "        edge_list(str) - str formatted as an edge list\n",
    "    Output:\n",
    "        inc_matrix(array) - sparce incidence matrix\n",
    "    \"\"\"\n",
    "    \n",
    "    #get all nodes from grf format\n",
    "    nodes = [sub_list[0] for sub_list in data]\n",
    "    #get the length of all nodes for size of matrix \n",
    "    n = len(nodes)\n",
    "    \n",
    "    #initialize incidence matrix by how many edges there are and nodes\n",
    "    #4x5\n",
    "    inc_matrix = np.zeros((len(edge_list), n))\n",
    "    \n",
    "    for i in range(len(edge_list)):\n",
    "        for j in range(len(edge_list[i])):\n",
    "            inc_matrix[i, int(edge_list[i][j] - 1)] = 1\n",
    "            inc_matrix[i, int(edge_list[i][j] - 1)] = 1\n",
    "\n",
    "    #output graph  \n",
    "    return inc_matrix"
   ]
  },
  {
   "cell_type": "markdown",
   "metadata": {},
   "source": [
    "## Converting GRF format"
   ]
  },
  {
   "cell_type": "code",
   "execution_count": 6,
   "metadata": {},
   "outputs": [
    {
     "name": "stdout",
     "output_type": "stream",
     "text": [
      "Edge List for graph.grf\n"
     ]
    },
    {
     "data": {
      "text/plain": [
       "[[1.0, 2.0], [1.0, 3.0], [2.0, 3.0], [3.0, 4.0]]"
      ]
     },
     "execution_count": 6,
     "metadata": {},
     "output_type": "execute_result"
    }
   ],
   "source": [
    "#Edge list \n",
    "myFunc('graph.grf', 1)"
   ]
  },
  {
   "cell_type": "code",
   "execution_count": 7,
   "metadata": {},
   "outputs": [
    {
     "name": "stdout",
     "output_type": "stream",
     "text": [
      "Adjacency Matrix for graph.grf\n"
     ]
    },
    {
     "data": {
      "text/plain": [
       "array([[0., 1., 1., 0., 0.],\n",
       "       [1., 0., 1., 0., 0.],\n",
       "       [1., 1., 0., 1., 0.],\n",
       "       [0., 0., 1., 0., 0.],\n",
       "       [0., 0., 0., 0., 0.]])"
      ]
     },
     "execution_count": 7,
     "metadata": {},
     "output_type": "execute_result"
    }
   ],
   "source": [
    "#Adjacency matrix\n",
    "myFunc('graph.grf', 2)"
   ]
  },
  {
   "cell_type": "code",
   "execution_count": 8,
   "metadata": {},
   "outputs": [
    {
     "name": "stdout",
     "output_type": "stream",
     "text": [
      "Adjacency Structure for graph.grf\n"
     ]
    },
    {
     "data": {
      "text/plain": [
       "{1.0: [2.0, 3.0], 2.0: [1.0, 3.0], 3.0: [1.0, 2.0, 4.0], 4.0: [3.0], 5.0: []}"
      ]
     },
     "execution_count": 8,
     "metadata": {},
     "output_type": "execute_result"
    }
   ],
   "source": [
    "#Adjacency structure\n",
    "myFunc('graph.grf', 3)"
   ]
  },
  {
   "cell_type": "code",
   "execution_count": 9,
   "metadata": {},
   "outputs": [
    {
     "name": "stdout",
     "output_type": "stream",
     "text": [
      "Incidence Matrix for graph.grf\n"
     ]
    },
    {
     "data": {
      "text/plain": [
       "array([[1., 1., 0., 0., 0.],\n",
       "       [1., 0., 1., 0., 0.],\n",
       "       [0., 1., 1., 0., 0.],\n",
       "       [0., 0., 1., 1., 0.]])"
      ]
     },
     "execution_count": 9,
     "metadata": {},
     "output_type": "execute_result"
    }
   ],
   "source": [
    "#incidence matrix \n",
    "myFunc('graph.grf', 4)"
   ]
  },
  {
   "cell_type": "markdown",
   "metadata": {},
   "source": [
    "## Converting GRF format of South America "
   ]
  },
  {
   "cell_type": "code",
   "execution_count": 24,
   "metadata": {},
   "outputs": [
    {
     "name": "stdout",
     "output_type": "stream",
     "text": [
      "Countries are organized in alphabetical order\n"
     ]
    },
    {
     "data": {
      "text/html": [
       "<div>\n",
       "<style scoped>\n",
       "    .dataframe tbody tr th:only-of-type {\n",
       "        vertical-align: middle;\n",
       "    }\n",
       "\n",
       "    .dataframe tbody tr th {\n",
       "        vertical-align: top;\n",
       "    }\n",
       "\n",
       "    .dataframe thead th {\n",
       "        text-align: right;\n",
       "    }\n",
       "</style>\n",
       "<table border=\"1\" class=\"dataframe\">\n",
       "  <thead>\n",
       "    <tr style=\"text-align: right;\">\n",
       "      <th>Node</th>\n",
       "      <th>Country</th>\n",
       "    </tr>\n",
       "  </thead>\n",
       "  <tbody>\n",
       "    <tr>\n",
       "      <th>1</th>\n",
       "      <td>Argentina</td>\n",
       "    </tr>\n",
       "    <tr>\n",
       "      <th>2</th>\n",
       "      <td>Bolivia</td>\n",
       "    </tr>\n",
       "    <tr>\n",
       "      <th>3</th>\n",
       "      <td>Brazil</td>\n",
       "    </tr>\n",
       "    <tr>\n",
       "      <th>4</th>\n",
       "      <td>Chile</td>\n",
       "    </tr>\n",
       "    <tr>\n",
       "      <th>5</th>\n",
       "      <td>Columbia</td>\n",
       "    </tr>\n",
       "    <tr>\n",
       "      <th>6</th>\n",
       "      <td>Ecuador</td>\n",
       "    </tr>\n",
       "    <tr>\n",
       "      <th>7</th>\n",
       "      <td>Guyana</td>\n",
       "    </tr>\n",
       "    <tr>\n",
       "      <th>8</th>\n",
       "      <td>Paraguay</td>\n",
       "    </tr>\n",
       "    <tr>\n",
       "      <th>9</th>\n",
       "      <td>Peru</td>\n",
       "    </tr>\n",
       "    <tr>\n",
       "      <th>10</th>\n",
       "      <td>Suriname</td>\n",
       "    </tr>\n",
       "    <tr>\n",
       "      <th>11</th>\n",
       "      <td>Uruguay</td>\n",
       "    </tr>\n",
       "    <tr>\n",
       "      <th>12</th>\n",
       "      <td>Venezuela</td>\n",
       "    </tr>\n",
       "  </tbody>\n",
       "</table>\n",
       "</div>"
      ],
      "text/plain": [
       "Node    Country\n",
       "1     Argentina\n",
       "2       Bolivia\n",
       "3        Brazil\n",
       "4         Chile\n",
       "5      Columbia\n",
       "6       Ecuador\n",
       "7        Guyana\n",
       "8      Paraguay\n",
       "9          Peru\n",
       "10     Suriname\n",
       "11      Uruguay\n",
       "12    Venezuela"
      ]
     },
     "execution_count": 24,
     "metadata": {},
     "output_type": "execute_result"
    }
   ],
   "source": [
    "import pandas as pd\n",
    "\n",
    "#display nodes and country dataframe \n",
    "data = {\"Country\":[\"Argentina\", \"Bolivia\", \"Brazil\", \"Chile\", \n",
    "                   \"Columbia\", \"Ecuador\", \"Guyana\", \"Paraguay\", \n",
    "                   \"Peru\", \"Suriname\", \"Uruguay\", \"Venezuela\"]}\n",
    "df = pd.DataFrame(data)\n",
    "df.columns.name=\"Node\"\n",
    "df.index += 1\n",
    "print(\"Countries are organized in alphabetical order\")\n",
    "df"
   ]
  },
  {
   "cell_type": "code",
   "execution_count": 11,
   "metadata": {},
   "outputs": [
    {
     "name": "stdout",
     "output_type": "stream",
     "text": [
      "Edge List for southAmerica.grf\n"
     ]
    },
    {
     "data": {
      "text/plain": [
       "[[1.0, 2.0],\n",
       " [1.0, 3.0],\n",
       " [1.0, 4.0],\n",
       " [1.0, 8.0],\n",
       " [1.0, 11.0],\n",
       " [2.0, 3.0],\n",
       " [2.0, 4.0],\n",
       " [2.0, 8.0],\n",
       " [2.0, 9.0],\n",
       " [3.0, 5.0],\n",
       " [3.0, 7.0],\n",
       " [3.0, 8.0],\n",
       " [3.0, 9.0],\n",
       " [3.0, 10.0],\n",
       " [3.0, 11.0],\n",
       " [3.0, 12.0],\n",
       " [4.0, 9.0],\n",
       " [5.0, 6.0],\n",
       " [5.0, 9.0],\n",
       " [5.0, 12.0],\n",
       " [6.0, 9.0],\n",
       " [7.0, 10.0],\n",
       " [7.0, 12.0]]"
      ]
     },
     "execution_count": 11,
     "metadata": {},
     "output_type": "execute_result"
    }
   ],
   "source": [
    "#Edge list \n",
    "myFunc('southAmerica.grf', 1)"
   ]
  },
  {
   "cell_type": "code",
   "execution_count": 12,
   "metadata": {},
   "outputs": [
    {
     "name": "stdout",
     "output_type": "stream",
     "text": [
      "Adjacency Matrix for southAmerica.grf\n"
     ]
    },
    {
     "data": {
      "text/plain": [
       "array([[0., 1., 1., 1., 0., 0., 0., 1., 0., 0., 1., 0.],\n",
       "       [1., 0., 1., 1., 0., 0., 0., 1., 1., 0., 0., 0.],\n",
       "       [1., 1., 0., 0., 1., 0., 1., 1., 1., 1., 1., 1.],\n",
       "       [1., 1., 0., 0., 0., 0., 0., 0., 1., 0., 0., 0.],\n",
       "       [0., 0., 1., 0., 0., 1., 0., 0., 1., 0., 0., 1.],\n",
       "       [0., 0., 0., 0., 1., 0., 0., 0., 1., 0., 0., 0.],\n",
       "       [0., 0., 1., 0., 0., 0., 0., 0., 0., 1., 0., 1.],\n",
       "       [1., 1., 1., 0., 0., 0., 0., 0., 0., 0., 0., 0.],\n",
       "       [0., 1., 1., 1., 1., 1., 0., 0., 0., 0., 0., 0.],\n",
       "       [0., 0., 1., 0., 0., 0., 1., 0., 0., 0., 0., 0.],\n",
       "       [1., 0., 1., 0., 0., 0., 0., 0., 0., 0., 0., 0.],\n",
       "       [0., 0., 1., 0., 1., 0., 1., 0., 0., 0., 0., 0.]])"
      ]
     },
     "execution_count": 12,
     "metadata": {},
     "output_type": "execute_result"
    }
   ],
   "source": [
    "#Adjacency matrix\n",
    "myFunc('southAmerica.grf', 2)"
   ]
  },
  {
   "cell_type": "code",
   "execution_count": 13,
   "metadata": {},
   "outputs": [
    {
     "name": "stdout",
     "output_type": "stream",
     "text": [
      "Adjacency Structure for southAmerica.grf\n"
     ]
    },
    {
     "data": {
      "text/plain": [
       "{1.0: [2.0, 3.0, 4.0, 8.0, 11.0],\n",
       " 2.0: [1.0, 3.0, 4.0, 8.0, 9.0],\n",
       " 3.0: [1.0, 2.0, 5.0, 7.0, 8.0, 9.0, 10.0, 11.0, 12.0],\n",
       " 4.0: [1.0, 2.0, 9.0],\n",
       " 5.0: [3.0, 6.0, 9.0, 12.0],\n",
       " 6.0: [5.0, 9.0],\n",
       " 7.0: [3.0, 10.0, 12.0],\n",
       " 8.0: [1.0, 2.0, 3.0],\n",
       " 9.0: [2.0, 3.0, 4.0, 5.0, 6.0],\n",
       " 10.0: [3.0, 7.0],\n",
       " 11.0: [1.0, 3.0],\n",
       " 12.0: [3.0, 5.0, 7.0]}"
      ]
     },
     "execution_count": 13,
     "metadata": {},
     "output_type": "execute_result"
    }
   ],
   "source": [
    "#Adjacency Structure\n",
    "myFunc('southAmerica.grf', 3)"
   ]
  },
  {
   "cell_type": "code",
   "execution_count": 14,
   "metadata": {},
   "outputs": [
    {
     "name": "stdout",
     "output_type": "stream",
     "text": [
      "Incidence Matrix for southAmerica.grf\n"
     ]
    },
    {
     "data": {
      "text/plain": [
       "array([[1., 1., 0., 0., 0., 0., 0., 0., 0., 0., 0., 0.],\n",
       "       [1., 0., 1., 0., 0., 0., 0., 0., 0., 0., 0., 0.],\n",
       "       [1., 0., 0., 1., 0., 0., 0., 0., 0., 0., 0., 0.],\n",
       "       [1., 0., 0., 0., 0., 0., 0., 1., 0., 0., 0., 0.],\n",
       "       [1., 0., 0., 0., 0., 0., 0., 0., 0., 0., 1., 0.],\n",
       "       [0., 1., 1., 0., 0., 0., 0., 0., 0., 0., 0., 0.],\n",
       "       [0., 1., 0., 1., 0., 0., 0., 0., 0., 0., 0., 0.],\n",
       "       [0., 1., 0., 0., 0., 0., 0., 1., 0., 0., 0., 0.],\n",
       "       [0., 1., 0., 0., 0., 0., 0., 0., 1., 0., 0., 0.],\n",
       "       [0., 0., 1., 0., 1., 0., 0., 0., 0., 0., 0., 0.],\n",
       "       [0., 0., 1., 0., 0., 0., 1., 0., 0., 0., 0., 0.],\n",
       "       [0., 0., 1., 0., 0., 0., 0., 1., 0., 0., 0., 0.],\n",
       "       [0., 0., 1., 0., 0., 0., 0., 0., 1., 0., 0., 0.],\n",
       "       [0., 0., 1., 0., 0., 0., 0., 0., 0., 1., 0., 0.],\n",
       "       [0., 0., 1., 0., 0., 0., 0., 0., 0., 0., 1., 0.],\n",
       "       [0., 0., 1., 0., 0., 0., 0., 0., 0., 0., 0., 1.],\n",
       "       [0., 0., 0., 1., 0., 0., 0., 0., 1., 0., 0., 0.],\n",
       "       [0., 0., 0., 0., 1., 1., 0., 0., 0., 0., 0., 0.],\n",
       "       [0., 0., 0., 0., 1., 0., 0., 0., 1., 0., 0., 0.],\n",
       "       [0., 0., 0., 0., 1., 0., 0., 0., 0., 0., 0., 1.],\n",
       "       [0., 0., 0., 0., 0., 1., 0., 0., 1., 0., 0., 0.],\n",
       "       [0., 0., 0., 0., 0., 0., 1., 0., 0., 1., 0., 0.],\n",
       "       [0., 0., 0., 0., 0., 0., 1., 0., 0., 0., 0., 1.]])"
      ]
     },
     "execution_count": 14,
     "metadata": {},
     "output_type": "execute_result"
    }
   ],
   "source": [
    "#incidence matrix \n",
    "myFunc('southAmerica.grf', 4)"
   ]
  },
  {
   "cell_type": "markdown",
   "metadata": {},
   "source": [
    "## Counting Walks"
   ]
  },
  {
   "cell_type": "markdown",
   "metadata": {},
   "source": [
    "We can use an adjacency matrix to count walks. The *ij*'th entry of $A^kv$ will give the number of k-length paths connecting to nodes *i and j*. "
   ]
  },
  {
   "cell_type": "code",
   "execution_count": 25,
   "metadata": {},
   "outputs": [
    {
     "name": "stdout",
     "output_type": "stream",
     "text": [
      "Fewest number of countries that must be visited, including Chile and Venezuela is 4. \n",
      "There are 4 possible paths.\n",
      "\n",
      "All shortest walks from Chile to Venezuela\n",
      "1. Chile, Peru, Columbia, Venezuela\n",
      "2. Chile, Peru, Brazil, Venezuela\n",
      "3. Chile, Bolivia, Brazil, Venezuela\n",
      "4. Chile, Argentina, Brazil, Venezuela\n"
     ]
    }
   ],
   "source": [
    "#Count the number of walks from Chile to Venezuela \n",
    "\n",
    "#create the adjacency matrix for the South America grf graph \n",
    "A = myFunc('southAmerica.grf', 2)\n",
    "\n",
    "#vector v is the starting point at Chile \n",
    "#in this case Chile is the fourth country in the grf file \n",
    "#thus I create a vector v to be zero except for a 1 in the \n",
    "#entry corresponging to node B (Chile)\n",
    "v = [0,0,0,1,0,0,0,0,0,0,0,0]\n",
    "\n",
    "#to get the fewest number of countries that I must visit, \n",
    "#including Chile and Venezuela I raise A to the power of 3\n",
    "#looking at a map the min num of countries is 4 (including c and v)\n",
    "#power of 2 doesnt work since there are zero terms in the list \n",
    "#which indicate that the graph isnt connected\n",
    "walk_c2v = np.dot(np.linalg.matrix_power(A, 3), np.transpose(v))[-1]\n",
    "\n",
    "#all shortest walks from Chile to Venezuela \n",
    "all_walks = [int(i) for i in np.dot(np.linalg.matrix_power(A, 3), np.transpose(v))]\n",
    "\n",
    "print('Fewest number of countries that must be visited, including Chile and Venezuela is {}. \\nThere are 4 possible paths.'.format(int(walk_c2v)))\n",
    "print('\\nAll shortest walks from Chile to Venezuela')\n",
    "print('1. Chile, Peru, Columbia, Venezuela')\n",
    "print('2. Chile, Peru, Brazil, Venezuela')\n",
    "print('3. Chile, Bolivia, Brazil, Venezuela')\n",
    "print('4. Chile, Argentina, Brazil, Venezuela')"
   ]
  },
  {
   "cell_type": "code",
   "execution_count": 20,
   "metadata": {},
   "outputs": [
    {
     "name": "stdout",
     "output_type": "stream",
     "text": [
      "The total amount of different possible walks of size 8, from Chile is 137,225 walks\n"
     ]
    }
   ],
   "source": [
    "num_walks_8c = np.dot(np.linalg.matrix_power(A, 8), np.transpose(v)).sum()\n",
    "print(\"The total amount of different possible walks of size 8, from Chile is {:,} walks\".format(int(num_walks_8c)))"
   ]
  },
  {
   "cell_type": "markdown",
   "metadata": {},
   "source": [
    "We can generalize the method used above and remove dependence on vector $v$. Let A be the adjacency matrix from a graph $G$. Then $A^k_{i,j}$ counts the number of walks of length k from node *i to node j*. To find the total number of walks of size 8, just sum the total number of walks."
   ]
  },
  {
   "cell_type": "code",
   "execution_count": 21,
   "metadata": {},
   "outputs": [
    {
     "name": "stdout",
     "output_type": "stream",
     "text": [
      "The total amount of different possible walks of size 8 is 1,909,772 walks\n"
     ]
    }
   ],
   "source": [
    "#different walks of size 8\n",
    "num_walks8 = np.linalg.matrix_power(A, 8).sum()\n",
    "print('The total amount of different possible walks of size 8 is {:,} walks'.format(int(num_walks8)))"
   ]
  },
  {
   "cell_type": "markdown",
   "metadata": {},
   "source": [
    "# Traveling Salesman Problem"
   ]
  },
  {
   "cell_type": "code",
   "execution_count": 26,
   "metadata": {},
   "outputs": [],
   "source": [
    "#imort external modules \n",
    "import itertools\n",
    "import numpy as np\n",
    "\n",
    "def tsp(filename):\n",
    "\n",
    "    #read the text file using list comprehension\n",
    "    data = [[float(x) for x in str.split()] for str in open(filename).readlines()]\n",
    "\n",
    "    #read the edge list of the txt file \n",
    "    edges = [x[0:2] for x in data]\n",
    "\n",
    "    #read in the edge weights of the txt file \n",
    "    weights = [x[2] for x in data]\n",
    "\n",
    "    #create permutations \n",
    "    city_num = [2.0, 3.0, 4.0, 5.0, 6.0, 7.0, 8.0]\n",
    "    perms = list(itertools.permutations(city_num))\n",
    "    perms = [list(x) for x in perms]\n",
    "\n",
    "    #number of nodes\n",
    "    n = 8\n",
    "\n",
    "    #initialize empty lists to hold pairs of edges \n",
    "    edge_1= []\n",
    "    edge_2 = []\n",
    "\n",
    "    #loop through data \n",
    "    for i in edges:\n",
    "        edge_1.append(i[0])\n",
    "        edge_2.append(i[1])\n",
    "\n",
    "    #create empty edge matrix with infinity\n",
    "    edge_matrix = np.full((n,n), np.inf)\n",
    "    #set diagonal equal to zero\n",
    "    np.fill_diagonal(edge_matrix, 0)\n",
    "\n",
    "    #loop through edge list \n",
    "    for i in range(len(edge_1)):\n",
    "        #unpack list and convert to int to be able to index\n",
    "        u = int(edge_1[i])\n",
    "        v = int(edge_2[i])\n",
    "        #assign weights to connected nodes \n",
    "        edge_matrix[u-1][v-1] = weights[i]\n",
    "        edge_matrix[v-1][u-1] = weights[i]\n",
    "\n",
    "    #initialize distance array 1 x 5040\n",
    "    dist = np.zeros(len(perms))\n",
    "    permutation = []\n",
    "\n",
    "    #for loop that loops through original set of permutations \n",
    "    #i also creates an index that is used to insert distance into \n",
    "    #the distance array \n",
    "    for i,perm in enumerate(perms):\n",
    "        #add a 1 to the beginning of the permutation list \n",
    "        perm.insert(0,1.0)\n",
    "        #add a 1 to the end of the permutation list \n",
    "        perm.append(1.0)\n",
    "        permutation.append(perm)\n",
    "        #get indexes through the lengh of the num of permutations -1 \n",
    "        for j in range(len(perm)-1):\n",
    "            #find the distance of the permutations \n",
    "            #index at each coordinate of the edge matrix using the perm array\n",
    "            dist[i] = dist[i] + edge_matrix[int(perm[j])-1, int(perm[j+1])-1]\n",
    "    \n",
    "    #optimal city list and reversed list \n",
    "    optimal_city = permutation[np.argmin(dist)]\n",
    "    \n",
    "    #display city order and list\n",
    "    print(\"Since we are starting and ending at the same city there are two optimal travel paths\\n with the same travel time. The two paths are the same, just in revered order.\\n\")\n",
    "    print(optimal_city)\n",
    "    print(\"Atlanta, Charlotte, Jacksonville, Miami, Tallahassee, Mobile, Montgomery, Nashville, Atlanta\\n\")\n",
    "    print(optimal_city[::-1])\n",
    "    print(\"Atlanta, Nashville, Montgomery, Mobile, Tallahassee, Miami, Jacksonville, Charlotte, Atlanta\\n\")\n",
    "    \n",
    "    \n",
    "    #get the minimum travel distance \n",
    "    min_dist = np.min(dist)\n",
    "    \n",
    "    #output minimum distance \n",
    "    print(\"The minimum travel time for the salesman is {} hours\".format(min_dist))\n",
    "    \n",
    "    return min_dist"
   ]
  },
  {
   "cell_type": "code",
   "execution_count": 27,
   "metadata": {},
   "outputs": [
    {
     "name": "stdout",
     "output_type": "stream",
     "text": [
      "Since we are starting and ending at the same city there are two optimal travel paths\n",
      " with the same travel time. The two paths are the same, just in revered order.\n",
      "\n",
      "[1.0, 2.0, 3.0, 4.0, 8.0, 5.0, 6.0, 7.0, 1.0]\n",
      "Atlanta, Charlotte, Jacksonville, Miami, Tallahassee, Mobile, Montgomery, Nashville, Atlanta\n",
      "\n",
      "[1.0, 7.0, 6.0, 5.0, 8.0, 4.0, 3.0, 2.0, 1.0]\n",
      "Atlanta, Nashville, Montgomery, Mobile, Tallahassee, Miami, Jacksonville, Charlotte, Atlanta\n",
      "\n",
      "The minimum travel time for the salesman is 35.25 hours\n"
     ]
    }
   ],
   "source": [
    "min_dist = tsp('salesman.txt')"
   ]
  }
 ],
 "metadata": {
  "kernelspec": {
   "display_name": "Python 3",
   "language": "python",
   "name": "python3"
  },
  "language_info": {
   "codemirror_mode": {
    "name": "ipython",
    "version": 3
   },
   "file_extension": ".py",
   "mimetype": "text/x-python",
   "name": "python",
   "nbconvert_exporter": "python",
   "pygments_lexer": "ipython3",
   "version": "3.7.1"
  }
 },
 "nbformat": 4,
 "nbformat_minor": 2
}
