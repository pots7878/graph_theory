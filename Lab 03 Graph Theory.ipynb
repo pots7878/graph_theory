{
 "cells": [
  {
   "cell_type": "code",
   "execution_count": 5,
   "metadata": {},
   "outputs": [
    {
     "data": {
      "text/plain": [
       "[[1.0, 2.0, 1.0, 2.0, 3.0],\n",
       " [2.0, 1.0, 0.0, 1.0, 3.0],\n",
       " [3.0, 0.0, 2.0, 1.0, 2.0, 4.0],\n",
       " [4.0, 3.0, 3.0, 3.0],\n",
       " [5.0, 3.0, 0.0]]"
      ]
     },
     "execution_count": 5,
     "metadata": {},
     "output_type": "execute_result"
    }
   ],
   "source": [
    "f = open('graph.grf')\n",
    "str_data = f.readlines()\n",
    "data = [[float(element) for element in str.split()] \\\n",
    "     for str in str_data]\n",
    "data"
   ]
  },
  {
   "cell_type": "code",
   "execution_count": 51,
   "metadata": {},
   "outputs": [
    {
     "name": "stdout",
     "output_type": "stream",
     "text": [
      "[1.0, 2.0]\n",
      "[1.0, 3.0]\n",
      "[2.0, 1.0]\n",
      "[2.0, 3.0]\n",
      "[3.0, 1.0]\n",
      "[3.0, 2.0]\n",
      "[3.0, 4.0]\n",
      "[4.0, 3.0]\n"
     ]
    }
   ],
   "source": [
    "test = [[i[0],j] for i in data for j in i[3:]]\n",
    "for i in test:\n",
    "    print(i)"
   ]
  },
  {
   "cell_type": "code",
   "execution_count": 40,
   "metadata": {},
   "outputs": [],
   "source": [
    "def myFunc(file, graph_selection):\n",
    "    \n",
    "    #open file \n",
    "    f = open(file)\n",
    "    #read the lines of the fule \n",
    "    str_data = f.readlines()\n",
    "    #for each element in the file, split the string and convert to float \n",
    "    data = [[float(element) for element in str.split()] for str in str_data]\n",
    "    \n",
    "    #Adjacency matrix\n",
    "    if graph_selection == 2:\n",
    "        \n",
    "        #store length of data \n",
    "        n = len(data)\n",
    "        \n",
    "        #grab cordinates of nodes edge_1 is x edge_2 is y\n",
    "        edge_1 = [edge[1] for edge in data]\n",
    "        edge_2 = [edge[2] for edge in data]\n",
    "\n",
    "        #create empty adjacency matrix with zeros\n",
    "        adj_matrix = [[0.0 for i in range(n)] for k in range(n)]\n",
    "\n",
    "\n",
    "        for i in range(len(edge_1)):\n",
    "            u = int(edge_1[i])\n",
    "            v = int(edge_2[i])\n",
    "            adj_matrix[u][v] = 1.0\n",
    "\n",
    "        adjacent_matrix = [[adj_matrix[i][k] for i in range(len(adj_matrix))] \\\n",
    "                           for k in range(len(adj_matrix[0]))]\n",
    "        \n",
    "        #output graph \n",
    "        print(*adjacent_matrix, sep=\"\\n\")\n",
    "    \n",
    "    #Adjacency Structure\n",
    "    if graph_selection == 3:\n",
    "        \n",
    "        #create lists of nodes and adjacencent nodes \n",
    "        nodes = [sub_list[0] for sub_list in data]\n",
    "        adj_nodes = [sub_list[3:] for sub_list in data]\n",
    "\n",
    "        #zip up lists and convert to dict to form structure \n",
    "        adj_struct = dict(zip(nodes, adj_nodes))\n",
    "\n",
    "        #output graph \n",
    "        print(*adj_struct.items(), sep=\"\\n\")\n",
    "    "
   ]
  },
  {
   "cell_type": "code",
   "execution_count": 41,
   "metadata": {},
   "outputs": [
    {
     "name": "stdout",
     "output_type": "stream",
     "text": [
      "[0.0, 1.0, 0.0, 1.0, 0.0]\n",
      "[0.0, 0.0, 1.0, 0.0, 0.0]\n",
      "[1.0, 0.0, 0.0, 0.0, 0.0]\n",
      "[0.0, 0.0, 0.0, 1.0, 0.0]\n",
      "[0.0, 0.0, 0.0, 0.0, 0.0]\n"
     ]
    }
   ],
   "source": [
    "myFunc('graph.grf',2)"
   ]
  },
  {
   "cell_type": "code",
   "execution_count": 42,
   "metadata": {},
   "outputs": [
    {
     "name": "stdout",
     "output_type": "stream",
     "text": [
      "(1.0, [2.0, 3.0])\n",
      "(2.0, [1.0, 3.0])\n",
      "(3.0, [1.0, 2.0, 4.0])\n",
      "(4.0, [3.0])\n",
      "(5.0, [])\n"
     ]
    }
   ],
   "source": [
    "myFunc('graph.grf',3)"
   ]
  },
  {
   "cell_type": "code",
   "execution_count": 5,
   "metadata": {},
   "outputs": [
    {
     "data": {
      "text/plain": [
       "[[0, 1, 2], [0, 2, 1], [1, 0, 2], [1, 2, 0], [2, 0, 1], [2, 1, 0]]"
      ]
     },
     "execution_count": 5,
     "metadata": {},
     "output_type": "execute_result"
    }
   ],
   "source": [
    "#Get all permutations \n",
    "import itertools \n",
    "mylist = [0, 1, 2]\n",
    "#list of tuples \n",
    "all_perms = list(itertools.permutations(mylist))\n",
    "#convert to list of lists \n",
    "all_perms = [list(x) for x in all_perms]\n",
    "all_perms"
   ]
  }
 ],
 "metadata": {
  "kernelspec": {
   "display_name": "Python 3",
   "language": "python",
   "name": "python3"
  },
  "language_info": {
   "codemirror_mode": {
    "name": "ipython",
    "version": 3
   },
   "file_extension": ".py",
   "mimetype": "text/x-python",
   "name": "python",
   "nbconvert_exporter": "python",
   "pygments_lexer": "ipython3",
   "version": "3.7.0"
  }
 },
 "nbformat": 4,
 "nbformat_minor": 2
}
