{
 "cells": [
  {
   "cell_type": "code",
   "execution_count": 2,
   "metadata": {},
   "outputs": [
    {
     "data": {
      "text/plain": [
       "[[1.0, 2.0, 1.0, 2.0, 3.0],\n",
       " [2.0, 1.0, 0.0, 1.0, 3.0],\n",
       " [3.0, 0.0, 2.0, 1.0, 2.0, 4.0],\n",
       " [4.0, 3.0, 3.0, 3.0],\n",
       " [5.0, 3.0, 0.0]]"
      ]
     },
     "execution_count": 2,
     "metadata": {},
     "output_type": "execute_result"
    }
   ],
   "source": [
    "f = open('graph.grf')\n",
    "str_data = f.readlines()\n",
    "data = [[float(element) for element in str.split()] \\\n",
    "     for str in str_data]\n",
    "data"
   ]
  },
  {
   "cell_type": "code",
   "execution_count": 161,
   "metadata": {},
   "outputs": [
    {
     "name": "stdout",
     "output_type": "stream",
     "text": [
      "[(1.0, 2.0), (1.0, 3.0), (2.0, 1.0), (2.0, 3.0), (3.0, 1.0), (3.0, 2.0), (3.0, 4.0), (4.0, 3.0)]\n"
     ]
    }
   ],
   "source": [
    "#create lists of nodes and adjacencent nodes \n",
    "nodes = [sub_list[0] for sub_list in data]\n",
    "adj_nodes = [sub_list[3:] for sub_list in data]\n",
    "\n",
    "#zip up lists and convert to dict to form structure \n",
    "adj_struct = dict(zip(nodes, adj_nodes))\n",
    "\n",
    "edges = []\n",
    "for node in adj_struct:\n",
    "    for neighbor in adj_struct[node]:\n",
    "        edges.append((node, neighbor))\n",
    "        \n",
    "print(edges)"
   ]
  },
  {
   "cell_type": "code",
   "execution_count": 30,
   "metadata": {},
   "outputs": [
    {
     "name": "stdout",
     "output_type": "stream",
     "text": [
      "[1.0, 2.0]\n",
      "[1.0, 3.0]\n",
      "[2.0, 1.0]\n",
      "[2.0, 3.0]\n",
      "[3.0, 1.0]\n",
      "[3.0, 2.0]\n",
      "[3.0, 4.0]\n",
      "[4.0, 3.0]\n"
     ]
    }
   ],
   "source": [
    "dat = []\n",
    "temp = []\n",
    "for i in data:\n",
    "    for j in i[3:]:\n",
    "        test = [i[0],j]\n",
    "        print(test)\n",
    "        \n",
    "\n",
    "# test = [[i[0],j] for i in data for j in i[3:]]\n",
    "# for i in test:\n",
    "#     if (i[[0]])\n",
    "#     print(i)"
   ]
  },
  {
   "cell_type": "code",
   "execution_count": 156,
   "metadata": {},
   "outputs": [],
   "source": [
    "import numpy as np\n",
    "def myFunc(file, graph_selection):\n",
    "    \n",
    "    #open file \n",
    "    f = open(file)\n",
    "    #read the lines of the fule \n",
    "    str_data = f.readlines()\n",
    "    #for each element in the file, split the string and convert to float \n",
    "    data = [[float(element) for element in str.split()] for str in str_data]\n",
    "    \n",
    "#     #edge list \n",
    "#     if graph_selection == 1:\n",
    "        \n",
    "        \n",
    "    \n",
    "    \n",
    "    #Adjacency matrix\n",
    "    if graph_selection == 2:\n",
    "        \n",
    "        edge_1= []\n",
    "        edge_2 = []\n",
    "        \n",
    "        for i in data:\n",
    "            for j in i[3:]:\n",
    "                mat = [i[0],j]\n",
    "                edge_1.append(mat[0])\n",
    "                edge_2.append(mat[1])\n",
    "\n",
    "        #create empty adjacency matrix with zeros\n",
    "        adj_matrix = np.zeros((5,5))\n",
    "    \n",
    "        for i in range(len(edge_1)):\n",
    "            u = int(edge_1[i])\n",
    "            v = int(edge_2[i])\n",
    "            adj_matrix[u-1][v-1] = 1.0\n",
    "            \n",
    "        for i in range(len(adj_matrix)):\n",
    "            for k in range(len(adj_matrix)):\n",
    "                print(adj_matrix[i][k], \" \", end='')\n",
    "            print('')\n",
    "    \n",
    "    #Adjacency Structure\n",
    "    if graph_selection == 3:\n",
    "        \n",
    "        #create lists of nodes and adjacencent nodes \n",
    "        nodes = [sub_list[0] for sub_list in data]\n",
    "        adj_nodes = [sub_list[3:] for sub_list in data]\n",
    "\n",
    "        #zip up lists and convert to dict to form structure \n",
    "        adj_struct = dict(zip(nodes, adj_nodes))\n",
    "\n",
    "        #output graph \n",
    "        print(adj_struct)\n",
    "        \n",
    "#     #incidence Matrix \n",
    "#     if graph_selection = 4:\n",
    "        \n",
    "        \n",
    "    "
   ]
  },
  {
   "cell_type": "code",
   "execution_count": 157,
   "metadata": {},
   "outputs": [
    {
     "name": "stdout",
     "output_type": "stream",
     "text": [
      "0.0  1.0  1.0  0.0  0.0  \n",
      "1.0  0.0  1.0  0.0  0.0  \n",
      "1.0  1.0  0.0  1.0  0.0  \n",
      "0.0  0.0  1.0  0.0  0.0  \n",
      "0.0  0.0  0.0  0.0  0.0  \n"
     ]
    }
   ],
   "source": [
    "myFunc('graph.grf',2)"
   ]
  },
  {
   "cell_type": "code",
   "execution_count": 158,
   "metadata": {},
   "outputs": [
    {
     "name": "stdout",
     "output_type": "stream",
     "text": [
      "{1.0: [2.0, 3.0], 2.0: [1.0, 3.0], 3.0: [1.0, 2.0, 4.0], 4.0: [3.0], 5.0: []}\n"
     ]
    }
   ],
   "source": [
    "myFunc('graph.grf',3)"
   ]
  },
  {
   "cell_type": "code",
   "execution_count": 5,
   "metadata": {},
   "outputs": [
    {
     "data": {
      "text/plain": [
       "[[0, 1, 2], [0, 2, 1], [1, 0, 2], [1, 2, 0], [2, 0, 1], [2, 1, 0]]"
      ]
     },
     "execution_count": 5,
     "metadata": {},
     "output_type": "execute_result"
    }
   ],
   "source": [
    "#Get all permutations \n",
    "import itertools \n",
    "mylist = [0, 1, 2]\n",
    "#list of tuples \n",
    "all_perms = list(itertools.permutations(mylist))\n",
    "#convert to list of lists \n",
    "all_perms = [list(x) for x in all_perms]\n",
    "all_perms"
   ]
  }
 ],
 "metadata": {
  "kernelspec": {
   "display_name": "Python 3",
   "language": "python",
   "name": "python3"
  },
  "language_info": {
   "codemirror_mode": {
    "name": "ipython",
    "version": 3
   },
   "file_extension": ".py",
   "mimetype": "text/x-python",
   "name": "python",
   "nbconvert_exporter": "python",
   "pygments_lexer": "ipython3",
   "version": "3.7.0"
  }
 },
 "nbformat": 4,
 "nbformat_minor": 2
}
