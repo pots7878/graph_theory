{
 "cells": [
  {
   "cell_type": "code",
   "execution_count": 2,
   "metadata": {},
   "outputs": [
    {
     "data": {
      "text/plain": [
       "[[1.0, 2.0, 1.0, 2.0, 3.0],\n",
       " [2.0, 1.0, 0.0, 1.0, 3.0],\n",
       " [3.0, 0.0, 2.0, 1.0, 2.0, 4.0],\n",
       " [4.0, 3.0, 3.0, 3.0],\n",
       " [5.0, 3.0, 0.0]]"
      ]
     },
     "execution_count": 2,
     "metadata": {},
     "output_type": "execute_result"
    }
   ],
   "source": [
    "f = open('graph.grf')\n",
    "str_data = f.readlines()\n",
    "data = [[float(element) for element in str.split()] \\\n",
    "     for str in str_data]\n",
    "data"
   ]
  },
  {
   "cell_type": "code",
   "execution_count": 161,
   "metadata": {},
   "outputs": [
    {
     "name": "stdout",
     "output_type": "stream",
     "text": [
      "[(1.0, 2.0), (1.0, 3.0), (2.0, 1.0), (2.0, 3.0), (3.0, 1.0), (3.0, 2.0), (3.0, 4.0), (4.0, 3.0)]\n"
     ]
    }
   ],
   "source": [
    "#create lists of nodes and adjacencent nodes \n",
    "nodes = [sub_list[0] for sub_list in data]\n",
    "adj_nodes = [sub_list[3:] for sub_list in data]\n",
    "\n",
    "#zip up lists and convert to dict to form structure \n",
    "adj_struct = dict(zip(nodes, adj_nodes))\n",
    "\n",
    "edges = []\n",
    "for node in adj_struct:\n",
    "    for neighbor in adj_struct[node]:\n",
    "        edges.append((node, neighbor))\n",
    "        \n",
    "print(edges)"
   ]
  },
  {
   "cell_type": "code",
   "execution_count": 30,
   "metadata": {},
   "outputs": [
    {
     "name": "stdout",
     "output_type": "stream",
     "text": [
      "[1.0, 2.0]\n",
      "[1.0, 3.0]\n",
      "[2.0, 1.0]\n",
      "[2.0, 3.0]\n",
      "[3.0, 1.0]\n",
      "[3.0, 2.0]\n",
      "[3.0, 4.0]\n",
      "[4.0, 3.0]\n"
     ]
    }
   ],
   "source": [
    "dat = []\n",
    "temp = []\n",
    "for i in data:\n",
    "    for j in i[3:]:\n",
    "        test = [i[0],j]\n",
    "        print(test)\n",
    "        \n",
    "\n",
    "# test = [[i[0],j] for i in data for j in i[3:]]\n",
    "# for i in test:\n",
    "#     if (i[[0]])\n",
    "#     print(i)"
   ]
  },
  {
   "cell_type": "code",
   "execution_count": null,
   "metadata": {},
   "outputs": [],
   "source": [
    "def readGRF(file):\n",
    "    \n",
    "    #open file \n",
    "    f = open(file)\n",
    "    \n",
    "    #read the lines of the fule \n",
    "    str_data = f.readlines()\n",
    "    \n",
    "    #for each element in the file, split the string and convert to float \n",
    "    data = [[float(element) for element in str.split()] for str in str_data]\n",
    "    \n",
    "    return data"
   ]
  },
  {
   "cell_type": "code",
   "execution_count": 162,
   "metadata": {},
   "outputs": [],
   "source": [
    "import numpy as np\n",
    "\n",
    "def myFunc(file, graph_selection):\n",
    "    \n",
    "    #open file \n",
    "    f = open(file)\n",
    "    #read the lines of the fule \n",
    "    str_data = f.readlines()\n",
    "    #for each element in the file, split the string and convert to float \n",
    "    data = [[float(element) for element in str.split()] for str in str_data]\n",
    "    \n",
    "#     #edge list \n",
    "#     if graph_selection == 1:\n",
    "        \n",
    "    #Adjacency matrix\n",
    "    if graph_selection == 2:\n",
    "        G = adjacencyMatrix(data)\n",
    "    \n",
    "    #Adjacency Structure\n",
    "    if graph_selection == 3:\n",
    "        G = adjacencyStructure(data)\n",
    "        \n",
    "    #incidence Matrix \n",
    "    if graph_selection == 4:\n",
    "        G = incidenceMatrix(data, adjacencyMatrix(data))\n",
    "    \n",
    "    #return graph\n",
    "    return G"
   ]
  },
  {
   "cell_type": "code",
   "execution_count": 173,
   "metadata": {},
   "outputs": [],
   "source": [
    "def adjacencyMatrix(data):\n",
    "    \n",
    "    nodes = [sub_list[0] for sub_list in data]\n",
    "    n = len(nodes)\n",
    "    \n",
    "    edge_1= []\n",
    "    edge_2 = []\n",
    "\n",
    "    for i in data:\n",
    "        for j in i[3:]:\n",
    "            mat = [i[0],j]\n",
    "            edge_1.append(mat[0])\n",
    "            edge_2.append(mat[1])\n",
    "\n",
    "    #create empty adjacency matrix with zeros\n",
    "    adj_matrix = np.zeros((n,n))\n",
    "\n",
    "    for i in range(len(edge_1)):\n",
    "        u = int(edge_1[i])\n",
    "        v = int(edge_2[i])\n",
    "        adj_matrix[u-1][v-1] = 1.0\n",
    "\n",
    "    return adj_matrix"
   ]
  },
  {
   "cell_type": "code",
   "execution_count": 174,
   "metadata": {},
   "outputs": [],
   "source": [
    "def adjacencyStructure(data):\n",
    "    \n",
    "    #create lists of nodes and adjacencent nodes \n",
    "    nodes = [sub_list[0] for sub_list in data]\n",
    "    adj_nodes = [sub_list[3:] for sub_list in data]\n",
    "\n",
    "    #zip up lists and convert to dict to form structure \n",
    "    adj_struct = dict(zip(nodes, adj_nodes))\n",
    "\n",
    "    #output graph \n",
    "    return adj_struct"
   ]
  },
  {
   "cell_type": "code",
   "execution_count": 179,
   "metadata": {},
   "outputs": [],
   "source": [
    "def incidenceMatrix(data, adjacency_matrix):\n",
    "    \n",
    "    nodes = [sub_list[0] for sub_list in data]\n",
    "    n = len(nodes)\n",
    "    \n",
    "    rows = 0 \n",
    "    for i in range(0, n):\n",
    "        for j in range(i, n):\n",
    "            if adjacency_matrix[i,j] == 1:\n",
    "                rows += 1\n",
    "    \n",
    "    #initialize incidence matrix\n",
    "    inc_matrix = np.zeros((rows, n))\n",
    "\n",
    "    m = 0\n",
    "    for i in range(0, n):\n",
    "        for j in range(i, n):\n",
    "            if adjacency_matrix[i, j] == 1:\n",
    "                inc_matrix[i, m] = 1\n",
    "                inc_matrix[j, m] = 1\n",
    "                m += 1\n",
    "\n",
    "    #output graph  \n",
    "    return inc_matrix"
   ]
  },
  {
   "cell_type": "code",
   "execution_count": 180,
   "metadata": {},
   "outputs": [
    {
     "data": {
      "text/plain": [
       "array([[0., 1., 1., 0., 0.],\n",
       "       [1., 0., 1., 0., 0.],\n",
       "       [1., 1., 0., 1., 0.],\n",
       "       [0., 0., 1., 0., 0.],\n",
       "       [0., 0., 0., 0., 0.]])"
      ]
     },
     "execution_count": 180,
     "metadata": {},
     "output_type": "execute_result"
    }
   ],
   "source": [
    "#Adjacency matrix\n",
    "myFunc('graph.grf',2)"
   ]
  },
  {
   "cell_type": "code",
   "execution_count": 181,
   "metadata": {},
   "outputs": [
    {
     "data": {
      "text/plain": [
       "{1.0: [2.0, 3.0], 2.0: [1.0, 3.0], 3.0: [1.0, 2.0, 4.0], 4.0: [3.0], 5.0: []}"
      ]
     },
     "execution_count": 181,
     "metadata": {},
     "output_type": "execute_result"
    }
   ],
   "source": [
    "#Adjacency structure\n",
    "myFunc('graph.grf',3)"
   ]
  },
  {
   "cell_type": "code",
   "execution_count": 182,
   "metadata": {},
   "outputs": [
    {
     "data": {
      "text/plain": [
       "array([[1., 1., 0., 0.],\n",
       "       [1., 0., 1., 0.],\n",
       "       [0., 1., 1., 1.],\n",
       "       [0., 0., 0., 1.],\n",
       "       [0., 0., 0., 0.]])"
      ]
     },
     "execution_count": 182,
     "metadata": {},
     "output_type": "execute_result"
    }
   ],
   "source": [
    "#incidence matrix \n",
    "myFunc('graph.grf', 4)"
   ]
  },
  {
   "cell_type": "code",
   "execution_count": 13,
   "metadata": {},
   "outputs": [
    {
     "data": {
      "text/plain": [
       "[[0, 1, 2], [0, 2, 1], [1, 0, 2], [1, 2, 0], [2, 0, 1], [2, 1, 0]]"
      ]
     },
     "execution_count": 13,
     "metadata": {},
     "output_type": "execute_result"
    }
   ],
   "source": [
    "#Get all permutations \n",
    "import itertools \n",
    "mylist = [0, 1, 2]\n",
    "#list of tuples \n",
    "all_perms = list(itertools.permutations(mylist))\n",
    "#convert to list of lists \n",
    "all_perms = [list(x) for x in all_perms]\n",
    "all_perms"
   ]
  },
  {
   "cell_type": "code",
   "execution_count": null,
   "metadata": {},
   "outputs": [],
   "source": []
  }
 ],
 "metadata": {
  "kernelspec": {
   "display_name": "Python 3",
   "language": "python",
   "name": "python3"
  },
  "language_info": {
   "codemirror_mode": {
    "name": "ipython",
    "version": 3
   },
   "file_extension": ".py",
   "mimetype": "text/x-python",
   "name": "python",
   "nbconvert_exporter": "python",
   "pygments_lexer": "ipython3",
   "version": "3.7.0"
  }
 },
 "nbformat": 4,
 "nbformat_minor": 2
}
