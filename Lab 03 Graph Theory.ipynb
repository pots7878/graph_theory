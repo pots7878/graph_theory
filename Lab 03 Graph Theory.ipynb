{
 "cells": [
  {
   "cell_type": "code",
   "execution_count": 60,
   "metadata": {},
   "outputs": [
    {
     "data": {
      "text/plain": [
       "[[1.0, 2.0, 1.0, 2.0, 3.0],\n",
       " [2.0, 1.0, 0.0, 1.0, 3.0],\n",
       " [3.0, 0.0, 2.0, 1.0, 2.0, 4.0],\n",
       " [4.0, 3.0, 3.0, 3.0],\n",
       " [5.0, 3.0, 0.0]]"
      ]
     },
     "execution_count": 60,
     "metadata": {},
     "output_type": "execute_result"
    }
   ],
   "source": [
    "f = open('graph.grf')\n",
    "str_data = f.readlines()\n",
    "data = [[float(element) for element in str.split()] \\\n",
    "     for str in str_data]\n",
    "data"
   ]
  },
  {
   "cell_type": "code",
   "execution_count": 61,
   "metadata": {},
   "outputs": [
    {
     "name": "stdout",
     "output_type": "stream",
     "text": [
      "[[1.0 list([2.0, 3.0])]\n",
      " [2.0 list([1.0, 3.0])]\n",
      " [3.0 list([1.0, 2.0, 4.0])]\n",
      " [4.0 list([3.0])]\n",
      " [5.0 list([])]]\n"
     ]
    }
   ],
   "source": [
    "import numpy as np\n",
    "#this is the first row of the data\n",
    "nodes = [sub_list[0] for sub_list in data]\n",
    "adj_nodes = [sub_list[3:] for sub_list in data]\n",
    "res = list(zip(nodes, adj_nodes))\n",
    "adj_struct = np.asarray(res)\n",
    "print(adj_struct)"
   ]
  },
  {
   "cell_type": "code",
   "execution_count": 62,
   "metadata": {},
   "outputs": [
    {
     "data": {
      "text/plain": [
       "[[0, 0, 0, 0, 0],\n",
       " [0, 0, 0, 0, 0],\n",
       " [0, 0, 0, 0, 0],\n",
       " [0, 0, 0, 0, 0],\n",
       " [0, 0, 0, 0, 0]]"
      ]
     },
     "execution_count": 62,
     "metadata": {},
     "output_type": "execute_result"
    }
   ],
   "source": [
    "n = len(data)\n",
    "adj_matrix = [[0 for i in range(n)] for k in range(n)]\n",
    "adj_matrix"
   ]
  },
  {
   "cell_type": "code",
   "execution_count": 5,
   "metadata": {},
   "outputs": [
    {
     "data": {
      "text/plain": [
       "[[0, 1, 2], [0, 2, 1], [1, 0, 2], [1, 2, 0], [2, 0, 1], [2, 1, 0]]"
      ]
     },
     "execution_count": 5,
     "metadata": {},
     "output_type": "execute_result"
    }
   ],
   "source": [
    "#Get all permutations \n",
    "import itertools \n",
    "mylist = [0, 1, 2]\n",
    "#list of tuples \n",
    "all_perms = list(itertools.permutations(mylist))\n",
    "#convert to list of lists \n",
    "all_perms = [list(x) for x in all_perms]\n",
    "all_perms"
   ]
  },
  {
   "cell_type": "code",
   "execution_count": null,
   "metadata": {},
   "outputs": [],
   "source": []
  }
 ],
 "metadata": {
  "kernelspec": {
   "display_name": "Python 3",
   "language": "python",
   "name": "python3"
  },
  "language_info": {
   "codemirror_mode": {
    "name": "ipython",
    "version": 3
   },
   "file_extension": ".py",
   "mimetype": "text/x-python",
   "name": "python",
   "nbconvert_exporter": "python",
   "pygments_lexer": "ipython3",
   "version": "3.7.0"
  }
 },
 "nbformat": 4,
 "nbformat_minor": 2
}
