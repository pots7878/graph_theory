{
 "cells": [
  {
   "cell_type": "code",
   "execution_count": 193,
   "metadata": {},
   "outputs": [],
   "source": [
    "import numpy as np\n",
    "\n",
    "def myFunc(file, graph_selection):\n",
    "    \n",
    "    #open file \n",
    "    f = open(file)\n",
    "    #read the lines of the fule \n",
    "    str_data = f.readlines()\n",
    "    #for each element in the file, split the string and convert to float \n",
    "    data = [[float(element) for element in str.split()] for str in str_data]\n",
    "    \n",
    "    #edge list \n",
    "    if graph_selection == 1:\n",
    "        G = edgeList(data)\n",
    "        \n",
    "    #Adjacency matrix\n",
    "    if graph_selection == 2:\n",
    "        G = adjacencyMatrix(data)\n",
    "    \n",
    "    #Adjacency Structure\n",
    "    if graph_selection == 3:\n",
    "        G = adjacencyStructure(data)\n",
    "        \n",
    "    #incidence Matrix \n",
    "    if graph_selection == 4:\n",
    "        G = incidenceMatrix(data, edgeList(data))\n",
    "    \n",
    "    #return graph\n",
    "    return G"
   ]
  },
  {
   "cell_type": "code",
   "execution_count": 194,
   "metadata": {},
   "outputs": [],
   "source": [
    "def edgeList(data):\n",
    "    \n",
    "    edge_list = []\n",
    "    \n",
    "    for i in data:\n",
    "        for j in i[3:]:\n",
    "            edge = [i[0],j]\n",
    "            if (edge[0] < edge[1]):\n",
    "                edge_list.append(edge)\n",
    "\n",
    "    return edge_list"
   ]
  },
  {
   "cell_type": "code",
   "execution_count": 304,
   "metadata": {},
   "outputs": [],
   "source": [
    "def adjacencyMatrix(data):\n",
    "    \n",
    "    nodes = [sub_list[0] for sub_list in data]\n",
    "    n = len(nodes)\n",
    "    \n",
    "    edge_1= []\n",
    "    edge_2 = []\n",
    "\n",
    "    for i in data:\n",
    "        for j in i[3:]:\n",
    "            mat = [i[0],j]\n",
    "            edge_1.append(mat[0])\n",
    "            edge_2.append(mat[1])\n",
    "            \n",
    "    #create empty adjacency matrix with zeros\n",
    "    adj_matrix = np.zeros((n,n))\n",
    "\n",
    "    for i in range(len(edge_1)):\n",
    "        u = int(edge_1[i])\n",
    "        v = int(edge_2[i])\n",
    "        adj_matrix[u-1][v-1] = 1.0\n",
    "\n",
    "    return adj_matrix"
   ]
  },
  {
   "cell_type": "code",
   "execution_count": 305,
   "metadata": {},
   "outputs": [],
   "source": [
    "def adjacencyStructure(data):\n",
    "    \n",
    "    #create lists of nodes and adjacencent nodes \n",
    "    nodes = [sub_list[0] for sub_list in data]\n",
    "    adj_nodes = [sub_list[3:] for sub_list in data]\n",
    "\n",
    "    #zip up lists and convert to dict to form structure \n",
    "    adj_struct = dict(zip(nodes, adj_nodes))\n",
    "\n",
    "    #output graph \n",
    "    return adj_struct"
   ]
  },
  {
   "cell_type": "code",
   "execution_count": 306,
   "metadata": {},
   "outputs": [],
   "source": [
    "def incidenceMatrix(data, edge_list):\n",
    "    \n",
    "    #get all nodes from grf format\n",
    "    nodes = [sub_list[0] for sub_list in data]\n",
    "    #get the length of all nodes for size of matrix \n",
    "    n = len(nodes)\n",
    "    \n",
    "    #initialize incidence matrix by how many edges there are and nodes\n",
    "    #4x5\n",
    "    inc_matrix = np.zeros((len(edge_list), n))\n",
    "    \n",
    "    for i in range(len(edge_list)):\n",
    "        for j in range(len(edge_list[i])):\n",
    "            inc_matrix[i, int(edge_list[i][j] - 1)] = 1\n",
    "            inc_matrix[i, int(edge_list[i][j] - 1)] = 1\n",
    "\n",
    "    #output graph  \n",
    "    return inc_matrix"
   ]
  },
  {
   "cell_type": "code",
   "execution_count": 307,
   "metadata": {},
   "outputs": [
    {
     "data": {
      "text/plain": [
       "[[1.0, 2.0], [1.0, 3.0], [2.0, 3.0], [3.0, 4.0]]"
      ]
     },
     "execution_count": 307,
     "metadata": {},
     "output_type": "execute_result"
    }
   ],
   "source": [
    "#Edge list \n",
    "myFunc('graph.grf', 1)"
   ]
  },
  {
   "cell_type": "code",
   "execution_count": 308,
   "metadata": {},
   "outputs": [
    {
     "data": {
      "text/plain": [
       "array([[0., 1., 1., 0., 0.],\n",
       "       [1., 0., 1., 0., 0.],\n",
       "       [1., 1., 0., 1., 0.],\n",
       "       [0., 0., 1., 0., 0.],\n",
       "       [0., 0., 0., 0., 0.]])"
      ]
     },
     "execution_count": 308,
     "metadata": {},
     "output_type": "execute_result"
    }
   ],
   "source": [
    "#Adjacency matrix\n",
    "myFunc('graph.grf', 2)"
   ]
  },
  {
   "cell_type": "code",
   "execution_count": 309,
   "metadata": {},
   "outputs": [
    {
     "data": {
      "text/plain": [
       "{1.0: [2.0, 3.0], 2.0: [1.0, 3.0], 3.0: [1.0, 2.0, 4.0], 4.0: [3.0], 5.0: []}"
      ]
     },
     "execution_count": 309,
     "metadata": {},
     "output_type": "execute_result"
    }
   ],
   "source": [
    "#Adjacency structure\n",
    "myFunc('graph.grf', 3)"
   ]
  },
  {
   "cell_type": "code",
   "execution_count": 310,
   "metadata": {},
   "outputs": [
    {
     "data": {
      "text/plain": [
       "array([[1., 1., 0., 0., 0.],\n",
       "       [1., 0., 1., 0., 0.],\n",
       "       [0., 1., 1., 0., 0.],\n",
       "       [0., 0., 1., 1., 0.]])"
      ]
     },
     "execution_count": 310,
     "metadata": {},
     "output_type": "execute_result"
    }
   ],
   "source": [
    "#incidence matrix \n",
    "myFunc('graph.grf', 4)"
   ]
  },
  {
   "cell_type": "code",
   "execution_count": 311,
   "metadata": {},
   "outputs": [
    {
     "data": {
      "text/plain": [
       "[[1.0, 2.0],\n",
       " [1.0, 3.0],\n",
       " [1.0, 4.0],\n",
       " [1.0, 8.0],\n",
       " [1.0, 11.0],\n",
       " [2.0, 3.0],\n",
       " [2.0, 4.0],\n",
       " [2.0, 8.0],\n",
       " [2.0, 9.0],\n",
       " [3.0, 5.0],\n",
       " [3.0, 7.0],\n",
       " [3.0, 8.0],\n",
       " [3.0, 9.0],\n",
       " [3.0, 10.0],\n",
       " [3.0, 11.0],\n",
       " [3.0, 12.0],\n",
       " [4.0, 9.0],\n",
       " [5.0, 6.0],\n",
       " [5.0, 9.0],\n",
       " [5.0, 12.0],\n",
       " [6.0, 9.0],\n",
       " [7.0, 10.0],\n",
       " [7.0, 12.0]]"
      ]
     },
     "execution_count": 311,
     "metadata": {},
     "output_type": "execute_result"
    }
   ],
   "source": [
    "#Edge list \n",
    "myFunc('southAmerica.grf', 1)"
   ]
  },
  {
   "cell_type": "code",
   "execution_count": 312,
   "metadata": {},
   "outputs": [
    {
     "data": {
      "text/plain": [
       "array([[0., 1., 1., 1., 0., 0., 0., 1., 0., 0., 1., 0.],\n",
       "       [1., 0., 1., 1., 0., 0., 0., 1., 1., 0., 0., 0.],\n",
       "       [1., 1., 0., 0., 1., 0., 1., 1., 1., 1., 1., 1.],\n",
       "       [1., 1., 0., 0., 0., 0., 0., 0., 1., 0., 0., 0.],\n",
       "       [0., 0., 1., 0., 0., 1., 0., 0., 1., 0., 0., 1.],\n",
       "       [0., 0., 0., 0., 1., 0., 0., 0., 1., 0., 0., 0.],\n",
       "       [0., 0., 1., 0., 0., 0., 0., 0., 0., 1., 0., 1.],\n",
       "       [1., 1., 1., 0., 0., 0., 0., 0., 0., 0., 0., 0.],\n",
       "       [0., 1., 1., 1., 1., 1., 0., 0., 0., 0., 0., 0.],\n",
       "       [0., 0., 1., 0., 0., 0., 1., 0., 0., 0., 0., 0.],\n",
       "       [1., 0., 1., 0., 0., 0., 0., 0., 0., 0., 0., 0.],\n",
       "       [0., 0., 1., 0., 1., 0., 1., 0., 0., 0., 0., 0.]])"
      ]
     },
     "execution_count": 312,
     "metadata": {},
     "output_type": "execute_result"
    }
   ],
   "source": [
    "#Adjacency matrix\n",
    "myFunc('southAmerica.grf', 2)"
   ]
  },
  {
   "cell_type": "code",
   "execution_count": 313,
   "metadata": {},
   "outputs": [
    {
     "data": {
      "text/plain": [
       "{1.0: [2.0, 3.0, 4.0, 8.0, 11.0],\n",
       " 2.0: [1.0, 3.0, 4.0, 8.0, 9.0],\n",
       " 3.0: [1.0, 2.0, 5.0, 7.0, 8.0, 9.0, 10.0, 11.0, 12.0],\n",
       " 4.0: [1.0, 2.0, 9.0],\n",
       " 5.0: [3.0, 6.0, 9.0, 12.0],\n",
       " 6.0: [5.0, 9.0],\n",
       " 7.0: [3.0, 10.0, 12.0],\n",
       " 8.0: [1.0, 2.0, 3.0],\n",
       " 9.0: [2.0, 3.0, 4.0, 5.0, 6.0],\n",
       " 10.0: [3.0, 7.0],\n",
       " 11.0: [1.0, 3.0],\n",
       " 12.0: [3.0, 5.0, 7.0]}"
      ]
     },
     "execution_count": 313,
     "metadata": {},
     "output_type": "execute_result"
    }
   ],
   "source": [
    "#Adjacency Structure\n",
    "myFunc('southAmerica.grf', 3)"
   ]
  },
  {
   "cell_type": "code",
   "execution_count": 314,
   "metadata": {},
   "outputs": [
    {
     "data": {
      "text/plain": [
       "array([[1., 1., 0., 0., 0., 0., 0., 0., 0., 0., 0., 0.],\n",
       "       [1., 0., 1., 0., 0., 0., 0., 0., 0., 0., 0., 0.],\n",
       "       [1., 0., 0., 1., 0., 0., 0., 0., 0., 0., 0., 0.],\n",
       "       [1., 0., 0., 0., 0., 0., 0., 1., 0., 0., 0., 0.],\n",
       "       [1., 0., 0., 0., 0., 0., 0., 0., 0., 0., 1., 0.],\n",
       "       [0., 1., 1., 0., 0., 0., 0., 0., 0., 0., 0., 0.],\n",
       "       [0., 1., 0., 1., 0., 0., 0., 0., 0., 0., 0., 0.],\n",
       "       [0., 1., 0., 0., 0., 0., 0., 1., 0., 0., 0., 0.],\n",
       "       [0., 1., 0., 0., 0., 0., 0., 0., 1., 0., 0., 0.],\n",
       "       [0., 0., 1., 0., 1., 0., 0., 0., 0., 0., 0., 0.],\n",
       "       [0., 0., 1., 0., 0., 0., 1., 0., 0., 0., 0., 0.],\n",
       "       [0., 0., 1., 0., 0., 0., 0., 1., 0., 0., 0., 0.],\n",
       "       [0., 0., 1., 0., 0., 0., 0., 0., 1., 0., 0., 0.],\n",
       "       [0., 0., 1., 0., 0., 0., 0., 0., 0., 1., 0., 0.],\n",
       "       [0., 0., 1., 0., 0., 0., 0., 0., 0., 0., 1., 0.],\n",
       "       [0., 0., 1., 0., 0., 0., 0., 0., 0., 0., 0., 1.],\n",
       "       [0., 0., 0., 1., 0., 0., 0., 0., 1., 0., 0., 0.],\n",
       "       [0., 0., 0., 0., 1., 1., 0., 0., 0., 0., 0., 0.],\n",
       "       [0., 0., 0., 0., 1., 0., 0., 0., 1., 0., 0., 0.],\n",
       "       [0., 0., 0., 0., 1., 0., 0., 0., 0., 0., 0., 1.],\n",
       "       [0., 0., 0., 0., 0., 1., 0., 0., 1., 0., 0., 0.],\n",
       "       [0., 0., 0., 0., 0., 0., 1., 0., 0., 1., 0., 0.],\n",
       "       [0., 0., 0., 0., 0., 0., 1., 0., 0., 0., 0., 1.]])"
      ]
     },
     "execution_count": 314,
     "metadata": {},
     "output_type": "execute_result"
    }
   ],
   "source": [
    "#incidence matrix \n",
    "myFunc('southAmerica.grf', 4)"
   ]
  },
  {
   "cell_type": "code",
   "execution_count": 341,
   "metadata": {},
   "outputs": [
    {
     "data": {
      "text/plain": [
       "array([11., 10.,  8.,  4.,  5.,  2.,  3.,  6., 10.,  3.,  4.,  4.])"
      ]
     },
     "execution_count": 341,
     "metadata": {},
     "output_type": "execute_result"
    }
   ],
   "source": [
    "adj_matrix = myFunc('southAmerica.grf', 2)\n",
    "v = [0,0,0,1,0,0,0,0,0,0,0,0]\n",
    "len(v)\n",
    "np.dot(np.linalg.matrix_power(adj_matrix, 3), np.transpose(v))"
   ]
  },
  {
   "cell_type": "code",
   "execution_count": 344,
   "metadata": {},
   "outputs": [
    {
     "data": {
      "text/plain": [
       "137225.0"
      ]
     },
     "execution_count": 344,
     "metadata": {},
     "output_type": "execute_result"
    }
   ],
   "source": [
    "np.dot(np.linalg.matrix_power(adj_matrix, 8), np.transpose(v)).sum()"
   ]
  },
  {
   "cell_type": "code",
   "execution_count": 343,
   "metadata": {},
   "outputs": [
    {
     "data": {
      "text/plain": [
       "1909772.0"
      ]
     },
     "execution_count": 343,
     "metadata": {},
     "output_type": "execute_result"
    }
   ],
   "source": [
    "np.linalg.matrix_power(adj_matrix, 8).sum()"
   ]
  }
 ],
 "metadata": {
  "kernelspec": {
   "display_name": "Python 3",
   "language": "python",
   "name": "python3"
  },
  "language_info": {
   "codemirror_mode": {
    "name": "ipython",
    "version": 3
   },
   "file_extension": ".py",
   "mimetype": "text/x-python",
   "name": "python",
   "nbconvert_exporter": "python",
   "pygments_lexer": "ipython3",
   "version": "3.7.0"
  }
 },
 "nbformat": 4,
 "nbformat_minor": 2
}
